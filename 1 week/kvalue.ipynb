{
 "cells": [
  {
   "cell_type": "code",
   "execution_count": 8,
   "metadata": {},
   "outputs": [
    {
     "name": "stdout",
     "output_type": "stream",
     "text": [
      "    Species  Weight  Length1  Length2  Length3   Height   Width\n",
      "0     Bream   242.0     23.2     25.4     30.0  11.5200  4.0200\n",
      "1     Bream   290.0     24.0     26.3     31.2  12.4800  4.3056\n",
      "2     Bream   340.0     23.9     26.5     31.1  12.3778  4.6961\n",
      "3     Bream   363.0     26.3     29.0     33.5  12.7300  4.4555\n",
      "4     Bream   430.0     26.5     29.0     34.0  12.4440  5.1340\n",
      "..      ...     ...      ...      ...      ...      ...     ...\n",
      "154   Smelt    12.2     11.5     12.2     13.4   2.0904  1.3936\n",
      "155   Smelt    13.4     11.7     12.4     13.5   2.4300  1.2690\n",
      "156   Smelt    12.2     12.1     13.0     13.8   2.2770  1.2558\n",
      "157   Smelt    19.7     13.2     14.3     15.2   2.8728  2.0672\n",
      "158   Smelt    19.9     13.8     15.0     16.2   2.9322  1.8792\n",
      "\n",
      "[159 rows x 7 columns]\n"
     ]
    },
    {
     "data": {
      "text/plain": [
       "[242.0,\n",
       " 290.0,\n",
       " 340.0,\n",
       " 363.0,\n",
       " 430.0,\n",
       " 450.0,\n",
       " 500.0,\n",
       " 390.0,\n",
       " 450.0,\n",
       " 500.0,\n",
       " 475.0,\n",
       " 500.0,\n",
       " 500.0,\n",
       " 340.0,\n",
       " 600.0,\n",
       " 600.0,\n",
       " 700.0,\n",
       " 700.0,\n",
       " 610.0,\n",
       " 650.0,\n",
       " 575.0,\n",
       " 685.0,\n",
       " 620.0,\n",
       " 680.0,\n",
       " 700.0,\n",
       " 725.0,\n",
       " 720.0,\n",
       " 714.0,\n",
       " 850.0,\n",
       " 1000.0,\n",
       " 920.0,\n",
       " 955.0,\n",
       " 925.0,\n",
       " 975.0,\n",
       " 950.0]"
      ]
     },
     "execution_count": 8,
     "metadata": {},
     "output_type": "execute_result"
    }
   ],
   "source": [
    "import numpy as np \n",
    "import pandas as pd \n",
    "import matplotlib.pyplot as plt\n",
    "from sklearn.neighbors import KNeighborsClassifier\n",
    "from sklearn.model_selection import train_test_split\n",
    "\n",
    "\n",
    "\n",
    "## chapter 1\n",
    "data = pd.read_csv('Fish.csv')\n",
    "df= pd.DataFrame(data)\n",
    "\n",
    "print(df)\n",
    "condition = (df.Species== 'Bream')\n",
    "k = list(data[condition]['Weight'])\n",
    "len(k)\n"
   ]
  }
 ],
 "metadata": {
  "interpreter": {
   "hash": "c810c3a733908288e6c8764d7c7692d30a9a7c0e9cf3dd5d6c2c6e62e88014f3"
  },
  "kernelspec": {
   "display_name": "Python 2.7.18 ('korea')",
   "language": "python",
   "name": "python3"
  },
  "language_info": {
   "codemirror_mode": {
    "name": "ipython",
    "version": 3
   },
   "file_extension": ".py",
   "mimetype": "text/x-python",
   "name": "python",
   "nbconvert_exporter": "python",
   "pygments_lexer": "ipython3",
   "version": "3.8.8"
  },
  "orig_nbformat": 4
 },
 "nbformat": 4,
 "nbformat_minor": 2
}
